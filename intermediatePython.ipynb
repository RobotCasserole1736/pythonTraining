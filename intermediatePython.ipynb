{
 "cells": [
  {
   "attachments": {},
   "cell_type": "markdown",
   "metadata": {},
   "source": [
    "# Intermediate Python\n",
    "\n",
    "This lesson will teach additional useful features of the **Python** programming language. The focus will be the less common tools used to write robot software.\n"
   ]
  },
  {
   "attachments": {},
   "cell_type": "markdown",
   "metadata": {},
   "source": [
    "## Duck Typing\n",
    "\n",
    "Python uses a \"duck typing\" strategy. With very few exceptions.\n",
    "\n",
    "Everything in python is simply an \"object\". The type is fully generic, and makes very few assumptions about the object itself.\n",
    "\n",
    "Duck typing works by delaying any question about whether \"X can do Y\" or \"X has member Y\" until runtime.\n",
    "\n",
    "That is to say, when you call `foo.bar()`, it is only at runtime that checks whether object `foo` contains a method named `bar`. It doesn't matter how `foo` got a method `bar`, or whether other objects also have a `bar()` method, or what `bar()` returns - it simply goes looking for anything named `bar()` and calls it.\n",
    "\n",
    "This yields a phenomenal level of flexibility as a software developer."
   ]
  },
  {
   "attachments": {},
   "cell_type": "markdown",
   "metadata": {},
   "source": [
    "## Groups of Objects\n",
    "\n",
    "Python provides a number of ways to group objects together."
   ]
  },
  {
   "attachments": {},
   "cell_type": "markdown",
   "metadata": {},
   "source": [
    "### Sets\n",
    "\n",
    "A **set** is an unordered collection of objects.\n",
    "\n",
    "You can iterate over a set, but the order of iteration is not guaranteed."
   ]
  },
  {
   "attachments": {},
   "cell_type": "markdown",
   "metadata": {},
   "source": [
    "### Lists\n",
    "\n",
    "A **list** is an ordered collection of objects."
   ]
  },
  {
   "attachments": {},
   "cell_type": "markdown",
   "metadata": {},
   "source": [
    "### Dictionary\n",
    "\n",
    "A **dictionary** is an unordered collection of objects, where each object has an arbitrary **key** tied to it. This key is most frequently a string."
   ]
  },
  {
   "attachments": {},
   "cell_type": "markdown",
   "metadata": {},
   "source": [
    "### Iterating over Groups\n",
    "\n",
    "A `for` loop is used to iterate over a group of objects"
   ]
  },
  {
   "attachments": {},
   "cell_type": "markdown",
   "metadata": {},
   "source": [
    "## Batteries-Included\n",
    "\n",
    "Python strives to be \"batteries-included\" - it has many good, built-in libraries for doing common operations\n",
    "\n",
    "TODO link to docs"
   ]
  },
  {
   "attachments": {},
   "cell_type": "markdown",
   "metadata": {},
   "source": [
    "### Common Math operations\n",
    "\n",
    "#### `min`/`max`"
   ]
  },
  {
   "attachments": {},
   "cell_type": "markdown",
   "metadata": {},
   "source": [
    "#### `round()`/`ceil()`/`floor()`\n"
   ]
  },
  {
   "cell_type": "markdown",
   "metadata": {},
   "source": []
  }
 ],
 "metadata": {
  "language_info": {
   "name": "python"
  },
  "orig_nbformat": 4
 },
 "nbformat": 4,
 "nbformat_minor": 2
}
