{
 "cells": [
  {
   "attachments": {},
   "cell_type": "markdown",
   "metadata": {},
   "source": [
    "# Intermediate Python\n",
    "\n",
    "This lesson will teach additional useful features of the **Python** programming language. The focus will be the less common tools used to write robot software.\n"
   ]
  },
  {
   "attachments": {},
   "cell_type": "markdown",
   "metadata": {},
   "source": [
    "## Duck Typing\n",
    "\n",
    "> **_NOTE:_**  If you're following along in the textbook, read sections 2.1 and 3.2\n",
    "\n",
    "Python uses a \"duck typing\" strategy. With very few exceptions.\n",
    "\n",
    "Everything in python is simply an \"object\". The type is fully generic, and makes very few assumptions about the object itself.\n",
    "\n",
    "Duck typing works by delaying any question about whether \"X can do Y\" or \"X has member Y\" until runtime.\n",
    "\n",
    "That is to say, when you call `foo.bar()`, it is only at runtime that checks whether object `foo` contains a method named `bar`. It doesn't matter how `foo` got a method `bar`, or whether other objects also have a `bar()` method, or what `bar()` returns - it simply goes looking for anything named `bar()` and calls it.\n",
    "\n",
    "This yields a phenomenal level of flexibility as a software developer.\n",
    "\n",
    "> **_NOTE:_**  The reason it's called \"Duck Typing\" is because if it looks like a duck, walks like a duck, and quacks like a duck... it probably is a duck."
   ]
  },
  {
   "attachments": {},
   "cell_type": "markdown",
   "metadata": {},
   "source": [
    "## Groups of Objects\n",
    "\n",
    "Python provides a number of ways to group objects together."
   ]
  },
  {
   "attachments": {},
   "cell_type": "markdown",
   "metadata": {},
   "source": [
    "### Lists\n",
    "\n",
    "> **_NOTE:_**  If you're following along in the textbook, read all of section 10\n",
    "\n",
    "A **list** is an ordered collection of objects.\n",
    "\n",
    "Lists are declared using square brackets (`[]`). They can contain any mix of any type of object (including other lists)."
   ]
  },
  {
   "cell_type": "code",
   "execution_count": 1,
   "metadata": {},
   "outputs": [],
   "source": [
    "numberList = [10, 20, 30, 40]\n",
    "stringList = ['crunchy frog', 'ram bladder', 'lark vomit']\n",
    "mixedList = [\"five\", 5, 5.5, -5.5]\n",
    "listList = ['spam', 2.0, 5, [10, 20]]"
   ]
  },
  {
   "attachments": {},
   "cell_type": "markdown",
   "metadata": {},
   "source": [
    "There's many ways to get things back out of lists. One way is to access a specific element of the list."
   ]
  },
  {
   "cell_type": "code",
   "execution_count": null,
   "metadata": {},
   "outputs": [],
   "source": [
    "# Note - array indicies start at 0\n",
    "print(mixedList[2])"
   ]
  },
  {
   "attachments": {},
   "cell_type": "markdown",
   "metadata": {},
   "source": [
    "Lists are mutable - you can `append` items to them."
   ]
  },
  {
   "cell_type": "code",
   "execution_count": null,
   "metadata": {},
   "outputs": [],
   "source": [
    "print(mixedList)\n",
    "mixedList.append(\"Robot!\")\n",
    "print(mixedList)"
   ]
  },
  {
   "attachments": {},
   "cell_type": "markdown",
   "metadata": {},
   "source": [
    "### Dictionary\n",
    "\n",
    "> **_NOTE:_**  If you're following along in the textbook, read all of section 11\n",
    "\n",
    "A **dictionary** is an unordered collection of objects, where each object has an arbitrary **key** tied to it. This key is most frequently a string."
   ]
  },
  {
   "attachments": {},
   "cell_type": "markdown",
   "metadata": {},
   "source": [
    "### Others\n",
    "\n",
    "**Tuples** and **Sets** are two other ways to group objects together. It's less likely we'll come across them in robot code, so we'll skip them for now.\n",
    "\n",
    "There is also a built in `range(x, y)` function which produces a list of all integers between `x` and `y-1` inclusive. Its use will be seen in just a moment."
   ]
  },
  {
   "attachments": {},
   "cell_type": "markdown",
   "metadata": {},
   "source": [
    "### Iterating over Groups\n",
    "\n",
    "All groups are **iterable** - that is to say, you can go through their members one by one.\n",
    "\n",
    "A `for` loop is used to **iterate** over a group of objects.\n",
    "\n",
    "The syntax to do this is:\n",
    "\n",
    "```python\n",
    "for <iterVar> in <iterable>:\n",
    "    # do something with <iterVar>\n",
    "```\n",
    "\n",
    "For example:"
   ]
  },
  {
   "cell_type": "code",
   "execution_count": null,
   "metadata": {},
   "outputs": [],
   "source": [
    "myList = [1, 2, 5, \"three sire\", 3]\n",
    "\n",
    "for elem in myList:\n",
    "    print(elem)"
   ]
  },
  {
   "attachments": {},
   "cell_type": "markdown",
   "metadata": {},
   "source": [
    "If you need an \"old fashioned\" `for` loop that goes over a set of values, you can use the built-in `range` function to generate it easily."
   ]
  },
  {
   "cell_type": "code",
   "execution_count": null,
   "metadata": {},
   "outputs": [],
   "source": [
    "for idx in range(0,5):\n",
    "    print(idx)"
   ]
  },
  {
   "attachments": {},
   "cell_type": "markdown",
   "metadata": {},
   "source": [
    "## Batteries-Included\n",
    "\n",
    "Python strives to be \"batteries-included\" - it has many good, built-in libraries for doing common operations\n",
    "\n",
    "[The online python documentation](https://docs.python.org/3/library/) is a wonderful (abet overwhelming) list of what Python comes with. "
   ]
  },
  {
   "attachments": {},
   "cell_type": "markdown",
   "metadata": {},
   "source": [
    "### Common Math operations\n",
    "\n",
    "#### `min`/`max`\n",
    "\n",
    "The `min` and `max` functions return the minimum or maximum value from all incoming arguments."
   ]
  },
  {
   "cell_type": "code",
   "execution_count": null,
   "metadata": {},
   "outputs": [],
   "source": [
    "result = max(1, 2, 3)\n",
    "print(result)"
   ]
  },
  {
   "cell_type": "code",
   "execution_count": null,
   "metadata": {},
   "outputs": [],
   "source": [
    "result = min(5, 6, 7)\n",
    "print(result)"
   ]
  },
  {
   "attachments": {},
   "cell_type": "markdown",
   "metadata": {},
   "source": [
    "#### `round()`/`str()`\n"
   ]
  },
  {
   "attachments": {},
   "cell_type": "markdown",
   "metadata": {},
   "source": [
    "These functions provide some explicit conversion between data types\n",
    "\n",
    "`round` will convert the floating point number to the nearest integer.\n",
    "\n",
    "`str` returns the best string representation of whatever you give it as input.\n"
   ]
  },
  {
   "cell_type": "code",
   "execution_count": null,
   "metadata": {},
   "outputs": [],
   "source": [
    "val = 38.1253\n",
    "print(round(val))\n",
    "print(str(val))"
   ]
  }
 ],
 "metadata": {
  "kernelspec": {
   "display_name": "Python 3",
   "language": "python",
   "name": "python3"
  },
  "language_info": {
   "codemirror_mode": {
    "name": "ipython",
    "version": 3
   },
   "file_extension": ".py",
   "mimetype": "text/x-python",
   "name": "python",
   "nbconvert_exporter": "python",
   "pygments_lexer": "ipython3",
   "version": "3.11.2"
  },
  "orig_nbformat": 4
 },
 "nbformat": 4,
 "nbformat_minor": 2
}
