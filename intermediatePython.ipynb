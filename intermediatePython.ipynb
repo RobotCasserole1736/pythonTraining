{
  "cells": [
    {
      "cell_type": "markdown",
      "metadata": {
        "id": "VN4EJfuG-ogS"
      },
      "source": [
        "# Intermediate Python\n",
        "\n",
        "This lesson will teach additional useful features of the **Python** programming language. The focus will be the less common tools used to write robot software.\n"
      ]
    },
    {
      "cell_type": "markdown",
      "metadata": {
        "id": "g-rNnWxx-ogW"
      },
      "source": [
        "## Duck Typing\n",
        "\n",
        "> **_NOTE:_**  If you're following along in the textbook, read sections 2.1 and 3.2\n",
        "\n",
        "Python uses a \"duck typing\" strategy. With very few exceptions.\n",
        "\n",
        "Everything in python is simply an \"object\". The type is fully generic, and makes very few assumptions about the object itself.\n",
        "\n",
        "Duck typing works by delaying any question about whether \"X can do Y\" or \"X has member Y\" until runtime.\n",
        "\n",
        "That is to say, when you call `foo.bar()`, it is only at runtime that checks whether object `foo` contains a method named `bar`. It doesn't matter how `foo` got a method `bar`, or whether other objects also have a `bar()` method, or what `bar()` returns - it simply goes looking for anything named `bar()` and calls it.\n",
        "\n",
        "This yields a phenomenal level of flexibility as a software developer.\n",
        "\n",
        "> **_NOTE:_**  The reason it's called \"Duck Typing\" is because if it looks like a duck, walks like a duck, and quacks like a duck... it probably is a duck."
      ]
    },
    {
      "cell_type": "markdown",
      "metadata": {
        "id": "1QqqgSd8-ogX"
      },
      "source": [
        "## Groups of Objects\n",
        "\n",
        "Python provides a number of ways to group objects together."
      ]
    },
    {
      "cell_type": "markdown",
      "metadata": {
        "id": "IqCvJrd8-ogY"
      },
      "source": [
        "### Lists\n",
        "\n",
        "> **_NOTE:_**  If you're following along in the textbook, read all of section 10\n",
        "\n",
        "A **list** is an ordered collection of objects.\n",
        "\n",
        "Lists are declared using square brackets (`[]`). They can contain any mix of any type of object (including other lists)."
      ]
    },
    {
      "cell_type": "code",
      "execution_count": null,
      "metadata": {
        "id": "xSGobcPq-ogY"
      },
      "outputs": [],
      "source": [
        "numberList = [10, 20, 30, 40]\n",
        "stringList = ['crunchy frog', 'ram bladder', 'lark vomit']\n",
        "mixedList = [\"five\", 5, 5.5, -5.5]\n",
        "listList = ['spam', 2.0, 5, [10, 20]]"
      ]
    },
    {
      "cell_type": "markdown",
      "metadata": {
        "id": "4_gFpD45-oga"
      },
      "source": [
        "There's many ways to get things back out of lists. One way is to access a specific element of the list. This access is done through using square brackets (`[]`)."
      ]
    },
    {
      "cell_type": "code",
      "execution_count": null,
      "metadata": {
        "id": "wQpx9wzD-oga"
      },
      "outputs": [],
      "source": [
        "# Note - array indicies start at 0\n",
        "print(mixedList[2])"
      ]
    },
    {
      "cell_type": "markdown",
      "source": [
        "You may also need to check how many things are in a list. The built in `len()` function can do this for you."
      ],
      "metadata": {
        "id": "EqFs81j6BYU9"
      }
    },
    {
      "cell_type": "code",
      "source": [
        "print(len(mixedList))"
      ],
      "metadata": {
        "id": "c6rbfSFEBdcU"
      },
      "execution_count": null,
      "outputs": []
    },
    {
      "cell_type": "markdown",
      "metadata": {
        "id": "uRXw9QK7-ogb"
      },
      "source": [
        "Lists are mutable - you can `append` items to them."
      ]
    },
    {
      "cell_type": "code",
      "execution_count": null,
      "metadata": {
        "id": "KXhT9H8T-ogb"
      },
      "outputs": [],
      "source": [
        "print(mixedList)\n",
        "mixedList.append(\"Robot!\")\n",
        "print(mixedList)"
      ]
    },
    {
      "cell_type": "markdown",
      "metadata": {
        "id": "raS0n9-g-ogc"
      },
      "source": [
        "### Dictionary\n",
        "\n",
        "> **_NOTE:_**  If you're following along in the textbook, read section 11.1 - 11.5\n",
        "\n",
        "A **dictionary** is an unordered collection of objects, where each object has an arbitrary **key** tied to it. This key is often, but not always, a string.\n",
        "\n",
        "A dictionary is like a list, but more general. In a list, the indices have to be integers; in a\n",
        "dictionary they can be (almost) any type.\n",
        "\n",
        "Dictionaries are declared using curly brackets (`{}`). They can contain any mix of any type of object (including other lists or dictionaries).\n"
      ]
    },
    {
      "cell_type": "code",
      "source": [
        "myDict = {\n",
        "    \"firstThing\" : 4,\n",
        "    \"secondThing\": 6,\n",
        "    \"asdf\": \"Hello World!\"\n",
        "}\n",
        "\n",
        "print(myDict)"
      ],
      "metadata": {
        "id": "0M6_Ln1JAd4m"
      },
      "execution_count": null,
      "outputs": []
    },
    {
      "cell_type": "markdown",
      "source": [
        "There's many ways to get things back out of dictionaries. One way is to access a specific key in the dictionary that you know to exist. This access is done through using square brackets (`[]`)."
      ],
      "metadata": {
        "id": "D_wraG8nA8Tt"
      }
    },
    {
      "cell_type": "code",
      "source": [
        "print(myDict[\"firstThing\"])"
      ],
      "metadata": {
        "id": "F-LM-uHXA7p6"
      },
      "execution_count": null,
      "outputs": []
    },
    {
      "cell_type": "markdown",
      "source": [
        "Like lists, `len()` can check how many key/value pairs are present in a dictionary."
      ],
      "metadata": {
        "id": "S1qlkoyHB4NQ"
      }
    },
    {
      "cell_type": "code",
      "source": [
        "print(len(myDict))"
      ],
      "metadata": {
        "id": "vyd_uEn2B9Lc"
      },
      "execution_count": null,
      "outputs": []
    },
    {
      "cell_type": "markdown",
      "source": [
        "Also, dictionaries have a built in `.keys()` method to indicate what keys are present."
      ],
      "metadata": {
        "id": "3_OOEJN6CA2A"
      }
    },
    {
      "cell_type": "code",
      "source": [
        "print(myDict.keys())"
      ],
      "metadata": {
        "id": "Wa-1-9eDCRBJ"
      },
      "execution_count": null,
      "outputs": []
    },
    {
      "cell_type": "markdown",
      "metadata": {
        "id": "BghOH85d-ogc"
      },
      "source": [
        "### Others\n",
        "\n",
        "**Tuples** and **Sets** are two other ways to group objects together. It's less likely we'll come across them in robot code, so we'll skip them for now.\n",
        "\n",
        "There is also a built in `range(x, y)` function which produces a list of all integers between `x` and `y-1` inclusive. Its use will be seen in just a moment."
      ]
    },
    {
      "cell_type": "markdown",
      "metadata": {
        "id": "OJQ4hweM-ogd"
      },
      "source": [
        "### Iterating over Groups\n",
        "\n",
        "All groups are **iterable** - that is to say, you can go through their members one by one.\n",
        "\n",
        "A `for` loop is used to **iterate** over a group of objects.\n",
        "\n",
        "The syntax to do this is:\n",
        "\n",
        "```python\n",
        "for <iterVar> in <iterable>:\n",
        "    # do something with <iterVar>\n",
        "```\n",
        "\n",
        "For example:"
      ]
    },
    {
      "cell_type": "code",
      "execution_count": null,
      "metadata": {
        "id": "BxvbvhRZ-ogi"
      },
      "outputs": [],
      "source": [
        "myList = [1, 2, 5, \"three sire\", 3]\n",
        "\n",
        "for elem in myList:\n",
        "    print(elem)"
      ]
    },
    {
      "cell_type": "markdown",
      "metadata": {
        "id": "ZxtAlY35-ogi"
      },
      "source": [
        "If you need an \"old fashioned\" `for` loop that goes over a set of values, you can use the built-in `range` function to generate it easily."
      ]
    },
    {
      "cell_type": "code",
      "execution_count": null,
      "metadata": {
        "id": "f-p92vNb-ogj"
      },
      "outputs": [],
      "source": [
        "for idx in range(0,5):\n",
        "    print(idx)"
      ]
    },
    {
      "cell_type": "markdown",
      "source": [
        "#### Group Membership\n",
        "\n",
        "The `in` keyword can also be used as an operator to detect whether a value is contained in a particular gorup or not."
      ],
      "metadata": {
        "id": "7N6ZmRCYCYkH"
      }
    },
    {
      "cell_type": "code",
      "source": [
        "myList = [1, 2, 5]\n",
        "\n",
        "print(1 in myList)\n",
        "print(4 in myList)"
      ],
      "metadata": {
        "id": "ysit2ptQCmDd"
      },
      "execution_count": null,
      "outputs": []
    },
    {
      "cell_type": "markdown",
      "metadata": {
        "id": "AAwNaZR1-ogj"
      },
      "source": [
        "## Batteries-Included\n",
        "\n",
        "Python strives to be \"batteries-included\" - it has many good, built-in libraries for doing common operations\n",
        "\n",
        "[The online python documentation](https://docs.python.org/3/library/) is a wonderful (abet overwhelming) list of what Python comes with. "
      ]
    },
    {
      "cell_type": "markdown",
      "metadata": {
        "id": "84jUCjZQ-ogk"
      },
      "source": [
        "### Common Math operations\n",
        "\n",
        "#### `min`/`max`\n",
        "\n",
        "The `min` and `max` functions return the minimum or maximum value from all incoming arguments."
      ]
    },
    {
      "cell_type": "code",
      "execution_count": null,
      "metadata": {
        "id": "lDHCBC_S-ogk"
      },
      "outputs": [],
      "source": [
        "result = max(1, 2, 3)\n",
        "print(result)"
      ]
    },
    {
      "cell_type": "code",
      "execution_count": null,
      "metadata": {
        "id": "sZOj2TaI-ogl"
      },
      "outputs": [],
      "source": [
        "result = min(5, 6, 7)\n",
        "print(result)"
      ]
    },
    {
      "cell_type": "markdown",
      "metadata": {
        "id": "d8ppAxeJ-ogl"
      },
      "source": [
        "#### `round()`/`str()`\n",
        "\n",
        "These functions provide some explicit conversion between data types\n",
        "\n",
        "`round` will convert the floating point number to the nearest integer.\n",
        "\n",
        "`str` returns the best string representation of whatever you give it as input.\n"
      ]
    },
    {
      "cell_type": "code",
      "execution_count": null,
      "metadata": {
        "id": "_Zn-DOYD-ogm"
      },
      "outputs": [],
      "source": [
        "val = 38.1253\n",
        "print(round(val))\n",
        "print(str(val))"
      ]
    }
  ],
  "metadata": {
    "kernelspec": {
      "display_name": "Python 3",
      "language": "python",
      "name": "python3"
    },
    "language_info": {
      "codemirror_mode": {
        "name": "ipython",
        "version": 3
      },
      "file_extension": ".py",
      "mimetype": "text/x-python",
      "name": "python",
      "nbconvert_exporter": "python",
      "pygments_lexer": "ipython3",
      "version": "3.11.2"
    },
    "orig_nbformat": 4,
    "colab": {
      "provenance": []
    }
  },
  "nbformat": 4,
  "nbformat_minor": 0
}