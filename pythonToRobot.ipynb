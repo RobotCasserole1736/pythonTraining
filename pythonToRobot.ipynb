{
 "cells": [
  {
   "attachments": {},
   "cell_type": "markdown",
   "metadata": {},
   "source": [
    "# Python to Robot\n",
    "\n",
    "This lesson will teach the basics of the **RobotPy** library, which extends the Python programming language to be able to control FRC robots.\n",
    "\n",
    "## Getting Started\n",
    "\n",
    "The following are the \"do once\" steps you'll need while getting started with Python and robots.\n",
    "\n",
    "First, [install RobotPy on your development computer](https://robotpy.readthedocs.io/en/stable/install/computer.html#install-computer)\n",
    "\n",
    "Then, if needed, [install RobotPy onto the roboRIO on the robot you are programming](https://robotpy.readthedocs.io/en/stable/install/robot.html#install-robotpy)\n",
    "\n",
    "Finally, create a new folder, and start making some [basic robot code](https://robotpy.readthedocs.io/en/stable/guide/anatomy.html#anatomy)."
   ]
  },
  {
   "attachments": {},
   "cell_type": "markdown",
   "metadata": {},
   "source": [
    "## General Architecture\n",
    "\n",
    "All robot code will follow a basic pattern:\n",
    "\n",
    "1. Gather input\n",
    "2. Perform calculations\n",
    "3. Assign output\n",
    "\n",
    "So far, we've looked at lots of information about performing calculations, and one way of performing output (`print()`).\n",
    "\n",
    "On a real robot, there's a lot more ways to get input and output. We'll talk about these soon."
   ]
  },
  {
   "attachments": {},
   "cell_type": "markdown",
   "metadata": {},
   "source": [
    "## `robot.py`\n",
    "\n",
    "The main \"entrypoint\" for code we write on the robot is in a file named `robot.py`. This file has a number of things to note:"
   ]
  },
  {
   "attachments": {},
   "cell_type": "markdown",
   "metadata": {},
   "source": [
    "### Imports\n",
    "\n",
    "At a minimum we'll need all of `wpilib`. This is the set of libraries that let our python code control a real robot. To indicate we'll be using and accessing wpilib, we need to `import` the library."
   ]
  },
  {
   "attachments": {},
   "cell_type": "markdown",
   "metadata": {},
   "source": [
    "```python\n",
    "import wpilib\n",
    "```"
   ]
  },
  {
   "attachments": {},
   "cell_type": "markdown",
   "metadata": {},
   "source": [
    "### Main Robot Class\n",
    "\n",
    "For each robot, a single \"top-level\" class must be declared."
   ]
  },
  {
   "attachments": {},
   "cell_type": "markdown",
   "metadata": {},
   "source": [
    "```python\n",
    "class MyRobot(wpilib.TimedRobot):\n",
    "    # ...\n",
    "```"
   ]
  },
  {
   "attachments": {},
   "cell_type": "markdown",
   "metadata": {},
   "source": [
    "Note the inclusion of `(wpilib.TimedRobot)` - this indicates that our robot, named `MyRobot`, **inherits** all the functionality of a timed robot.\n",
    "\n",
    "However, we will override certain pieces of functionality with our own code."
   ]
  },
  {
   "attachments": {},
   "cell_type": "markdown",
   "metadata": {},
   "source": [
    "```python\n",
    "class MyRobot(wpilib.TimedRobot):\n",
    "    def robotInit(self):\n",
    "        # some code\n",
    "\n",
    "    def disabledInit(self):\n",
    "        # some more code\n",
    "\n",
    "    def disabledPeriodic(self):\n",
    "        # some more code\n",
    "\n",
    "    def autonomousInit(self):\n",
    "        # some autonomous code\n",
    "\n",
    "    def autonomousPeriodic(self):\n",
    "        # some autonomous code\n",
    "\n",
    "    def teleopInit(self):\n",
    "        # some teleop code\n",
    "\n",
    "    def teleopPeriodic(self):\n",
    "        # some teleop code\n",
    "\n",
    "    def robotPeriodic(self):\n",
    "        # some periodic code\n",
    "```"
   ]
  },
  {
   "attachments": {},
   "cell_type": "markdown",
   "metadata": {},
   "source": [
    " `robotInit()` is called exactly once as code starts up.\n",
    " \n",
    "Other `*Init()` methods are called exactly once, right as the robot transitions to that mode.\n",
    "\n",
    "`robotPeriodic()` is called every 20ms while the robot is running. \n",
    "\n",
    "Other `*Periodic()` method are called every 20ms, while the robot is in that mode.\n",
    "\n",
    "Referencing our architecture: all periodic methods must be written to gather input, perform calcualtion, and assing output **as fast as possible**. There can't be `while` loops or `delay()` statements within them, or they'll stop the robot from working.\n"
   ]
  },
  {
   "attachments": {},
   "cell_type": "markdown",
   "metadata": {},
   "source": [
    "Finally, there's a bit of python \"boilerplate\" at the bottom."
   ]
  },
  {
   "attachments": {},
   "cell_type": "markdown",
   "metadata": {},
   "source": [
    "```python\n",
    "if __name__ == \"__main__\":\n",
    "    wpilib.run(MyRobot)\n",
    "```"
   ]
  },
  {
   "attachments": {},
   "cell_type": "markdown",
   "metadata": {},
   "source": [
    "This chunk of code ensures that whenever we try to run the file `robot.py` on a command line, the default functionality will be to run our robot's class `MyRobot` through wpilib's infrastructure. It's effectively indicating \"Hey wpilib, this is our robot! Run it!\"."
   ]
  }
 ],
 "metadata": {
  "kernelspec": {
   "display_name": "Python 3",
   "language": "python",
   "name": "python3"
  },
  "language_info": {
   "codemirror_mode": {
    "name": "ipython",
    "version": 3
   },
   "file_extension": ".py",
   "mimetype": "text/x-python",
   "name": "python",
   "nbconvert_exporter": "python",
   "pygments_lexer": "ipython3",
   "version": "3.11.2"
  },
  "orig_nbformat": 4
 },
 "nbformat": 4,
 "nbformat_minor": 2
}
