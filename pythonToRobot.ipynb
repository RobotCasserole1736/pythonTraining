{
 "cells": [
  {
   "attachments": {},
   "cell_type": "markdown",
   "metadata": {},
   "source": [
    "# Python to Robot\n",
    "\n",
    "This lesson will teach the basics of the **RobotPy** library, which extends the Python programming language to be able to control FRC robots."
   ]
  },
  {
   "cell_type": "markdown",
   "metadata": {},
   "source": [
    "## General Architecture\n",
    "\n",
    "All robot code will follow a basic pattern:\n",
    "\n",
    "1. Gather input\n",
    "2. Perform calculations\n",
    "3. Assign output\n",
    "\n",
    "So far, we've looked at lots of information about performing calculations, and one way of performing output (`print()`).\n",
    "\n",
    "On a real robot, there's a lot more ways to get input and output."
   ]
  },
  {
   "attachments": {},
   "cell_type": "markdown",
   "metadata": {},
   "source": [
    "## `robot.py`\n",
    "\n",
    "The main \"entrypoint\" for code we write on the robot is in a file named `robot.py`. This file will have the following minimum contents:"
   ]
  }
 ],
 "metadata": {
  "language_info": {
   "name": "python"
  },
  "orig_nbformat": 4
 },
 "nbformat": 4,
 "nbformat_minor": 2
}
