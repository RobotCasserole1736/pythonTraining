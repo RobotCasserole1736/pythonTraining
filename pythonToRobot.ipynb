{
 "cells": [
  {
   "attachments": {},
   "cell_type": "markdown",
   "metadata": {},
   "source": [
    "# Python to Robot\n",
    "\n",
    "This lesson will teach the basics of the **RobotPy** library, which extends the Python programming language to be able to control FRC robots.\n",
    "\n",
    "## Getting Started\n",
    "\n",
    "The following are the \"do once\" steps you'll need while getting started with Python and robots.\n",
    "\n",
    "First, [install RobotPy on your development computer](https://robotpy.readthedocs.io/en/stable/install/computer.html#install-computer)\n",
    "\n",
    "Then, if needed, [install RobotPy onto the roboRIO on the robot you are programming](https://robotpy.readthedocs.io/en/stable/install/robot.html#install-robotpy)\n",
    "\n",
    "Finally, create a new folder, and start making some [basic robot code](https://robotpy.readthedocs.io/en/stable/guide/anatomy.html#anatomy)."
   ]
  },
  {
   "attachments": {},
   "cell_type": "markdown",
   "metadata": {},
   "source": [
    "## General Architecture\n",
    "\n",
    "All robot code will follow a basic pattern:\n",
    "\n",
    "1. Gather input\n",
    "2. Perform calculations\n",
    "3. Assign output\n",
    "\n",
    "So far, we've looked at lots of information about performing calculations, and one way of performing output (`print()`).\n",
    "\n",
    "On a real robot, there's a lot more ways to get input and output. We'll talk about these soon."
   ]
  },
  {
   "attachments": {},
   "cell_type": "markdown",
   "metadata": {},
   "source": [
    "## `robot.py`\n",
    "\n",
    "The main \"entrypoint\" for code we write on the robot is in a file named `robot.py`. This file will have the following minimum contents:"
   ]
  }
 ],
 "metadata": {
  "language_info": {
   "name": "python"
  },
  "orig_nbformat": 4
 },
 "nbformat": 4,
 "nbformat_minor": 2
}
