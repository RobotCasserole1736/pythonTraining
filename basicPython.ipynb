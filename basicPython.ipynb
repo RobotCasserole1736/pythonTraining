{
 "cells": [
  {
   "cell_type": "markdown",
   "id": "e3dfd994",
   "metadata": {
    "id": "e3dfd994"
   },
   "source": [
    "# Introductory Python"
   ]
  },
  {
   "cell_type": "markdown",
   "id": "aa50de22",
   "metadata": {
    "id": "aa50de22"
   },
   "source": [
    "This lesson will teach the basics of the **Python** programming language. \n",
    "\n",
    "Programming languages are toolboxes. As a student, your first task is to understand the tools that are in the toolbox. Then, we will apply those tools to solve a problem.\n",
    "\n",
    "The end goal is knowing enough to make a robot do useful tasks. \n",
    "\n",
    "This training focuses on introducing the tools in the toolbox."
   ]
  },
  {
   "cell_type": "markdown",
   "id": "840fbd5d",
   "metadata": {
    "id": "840fbd5d"
   },
   "source": [
    "## Program Structure\n",
    "\n",
    "### Python Programs & Source Code Files\n",
    "\n",
    "When running, Python will walk through your file line by line, doing what each line says to do.\n",
    "\n",
    "These lines of computer instructions stored in files are called **code**.\n",
    "\n",
    "It's good to start by focusing on small pieces of code, which are easy to think about on their own. Later, we'll show more tools for how to visualize how large chunks of code are executed.\n",
    "\n",
    "Python code is generally contained in files with the extension `.py`. These files are often called your **source**.\n",
    "\n",
    "For this training, we'll just focus on small snippets of code. However, on the real robot, you'll write the same software into `.py` files."
   ]
  },
  {
   "cell_type": "markdown",
   "id": "125b080c",
   "metadata": {
    "id": "125b080c"
   },
   "source": [
    "## Simple Output"
   ]
  },
  {
   "cell_type": "markdown",
   "id": "f3ea0fb7",
   "metadata": {
    "id": "f3ea0fb7"
   },
   "source": [
    "The first thing to learn is how to get information about what your program is doing. Without this, you won't know anything about how your code works.\n",
    "\n",
    "Python's basic mechanism for output is printing things to the **console**. This functionality is built in, and tied to the special word `print`. \n",
    "\n",
    "Run the block of code below. Then change the words printed out to include `Casserole`. Run it again to confirm it does what you expect."
   ]
  },
  {
   "cell_type": "code",
   "execution_count": null,
   "id": "c1b66a44",
   "metadata": {
    "id": "c1b66a44"
   },
   "outputs": [],
   "source": [
    "print(\"Hello, I'm a robot!\")"
   ]
  },
  {
   "cell_type": "markdown",
   "id": "0c3fde6f",
   "metadata": {
    "id": "0c3fde6f"
   },
   "source": [
    "### Comments\n",
    "\n",
    "**Comments** allow you to put notes, reminders, or explanations into your code, for humans to read. The computer will just ignore all comments. All text after a `#` character is considered a comment.\n",
    "\n",
    "When we say to **comment out** a line of code, we mean to put a `#` in front of it to prevent it from running."
   ]
  },
  {
   "cell_type": "code",
   "execution_count": null,
   "id": "8b6f76fb",
   "metadata": {
    "id": "8b6f76fb"
   },
   "outputs": [],
   "source": [
    "# This is a comment\n",
    "\n",
    "# The code below here won't actually get run\n",
    "# print(\"hello, this code won't run because it's a comment\")\n",
    "\n",
    "# The code below here will run, because it isn't a comment\n",
    "print(\"hello, this code did run.\")"
   ]
  },
  {
   "cell_type": "markdown",
   "id": "2914cda7",
   "metadata": {
    "id": "2914cda7"
   },
   "source": [
    "## Tools for Calculation\n",
    "\n",
    "On a robot, your code's main job is to make decisions based on the world around it. Making these decisions requiers **calculation**.\n",
    "\n",
    "There are many tools that python provides for doing calculation."
   ]
  },
  {
   "cell_type": "markdown",
   "id": "ca21b2ad",
   "metadata": {
    "id": "ca21b2ad"
   },
   "source": [
    "### Variables\n",
    "\n",
    "A **variable** is simply a name for a memory location, where the computer can store a value.\n",
    "\n",
    "You create variables by simply writing to them. Python will pick a type automatically.\n",
    "\n",
    "When you ask python to `print()` a variable, it prints out the variable's value to the console."
   ]
  },
  {
   "cell_type": "code",
   "execution_count": null,
   "id": "52487029",
   "metadata": {
    "id": "52487029"
   },
   "outputs": [],
   "source": [
    "myVariable = 5\n",
    "print(myVariable)\n",
    "\n",
    "myVariable = 46\n",
    "print(myVariable)"
   ]
  },
  {
   "cell_type": "code",
   "execution_count": null,
   "id": "881b6ba8",
   "metadata": {
    "id": "881b6ba8"
   },
   "outputs": [],
   "source": [
    "myVariable = 42.35\n",
    "print(myVariable)"
   ]
  },
  {
   "cell_type": "code",
   "execution_count": null,
   "id": "d6c4cc73",
   "metadata": {
    "id": "d6c4cc73"
   },
   "outputs": [],
   "source": [
    "myVariable = \"Spinach\"\n",
    "print(myVariable)"
   ]
  },
  {
   "cell_type": "markdown",
   "id": "fa159b74",
   "metadata": {
    "id": "fa159b74"
   },
   "source": [
    "### Math\n",
    "\n",
    "Python can do basic math operations. **Operators** like `+` (addition), `-` (subtraction), `*` (multiplication), and `/` (division) are supported."
   ]
  },
  {
   "cell_type": "code",
   "execution_count": null,
   "id": "0204c535",
   "metadata": {
    "id": "0204c535"
   },
   "outputs": [],
   "source": [
    "myVariable = 3\n",
    "anotherVariable = myVariable + 5\n",
    "print(anotherVariable)"
   ]
  },
  {
   "cell_type": "code",
   "execution_count": null,
   "id": "288efaaa",
   "metadata": {
    "id": "288efaaa"
   },
   "outputs": [],
   "source": [
    "wheelSpeed = 1000\n",
    "wheelSpeed = wheelSpeed * 0.5\n",
    "print(wheelSpeed)"
   ]
  },
  {
   "attachments": {},
   "cell_type": "markdown",
   "id": "4e68fc94",
   "metadata": {},
   "source": [
    "## Code Blocks\n",
    "\n",
    "Code is generally divided into many **blocks**. So far, all code we've looked at is in a single block. \n",
    "\n",
    "Python uses *indentation* to indicate blocks. A change in the number of spaces in front of a line of code indicates we've changed to a new block."
   ]
  },
  {
   "cell_type": "code",
   "execution_count": null,
   "id": "14a9e77f",
   "metadata": {},
   "outputs": [],
   "source": [
    "# This is the start of a block of code, with no indentation\n",
    "# This is in the same block\n",
    "\n",
    "# This is still in that same block\n",
    "    # This is indented, and is in a new block\n",
    "    # This is still indented, in that new block\n",
    "\n",
    "# Now we're back to the first block"
   ]
  },
  {
   "attachments": {},
   "cell_type": "markdown",
   "id": "4a031543",
   "metadata": {
    "id": "4a031543"
   },
   "source": [
    "### Functions\n",
    "\n",
    "Python lets create groups of useful lines of code, and give the group a name. This group of lines of code is called a **function**. \n",
    "\n",
    "You have already seen one function, called `print()`. You can make your own, too. The `def` keyword indicates you are **defining** a new function. All code inside the function must be *indented* properly to form a new block.\n",
    "\n",
    "Once you have defined a function, you can **call** the function by using its name, followed by `()`.\n"
   ]
  },
  {
   "cell_type": "code",
   "execution_count": null,
   "id": "7371958f",
   "metadata": {
    "id": "7371958f"
   },
   "outputs": [],
   "source": [
    "# Define a function named \"printThreeThings\"\n",
    "def printThreeThings():\n",
    "    print(\"hello\")\n",
    "    print(\"hello again\")\n",
    "    print(\"goodbye\")\n",
    "    \n",
    "# Call that function\n",
    "printThreeThings()"
   ]
  },
  {
   "cell_type": "markdown",
   "id": "41fb30af",
   "metadata": {
    "id": "41fb30af"
   },
   "source": [
    "#### Function Inputs\n",
    "\n",
    "Functions can take any number of **arguments**. These are simply named values that act like variables, but exist only inside that one function. They're a good way for the code which _calls_ a function to **pass** some information to the function.\n"
   ]
  },
  {
   "cell_type": "code",
   "execution_count": null,
   "id": "6e84fd3a",
   "metadata": {
    "id": "6e84fd3a"
   },
   "outputs": [],
   "source": [
    "def printThreeThings(middleThing):\n",
    "    print(\"hello\")\n",
    "    print(middleThing)\n",
    "    print(\"goodbye\")\n",
    "    \n",
    "# Call that function, passing a specific input value\n",
    "printThreeThings(\"Robot!\")"
   ]
  },
  {
   "cell_type": "markdown",
   "id": "76921d4f",
   "metadata": {
    "id": "76921d4f"
   },
   "source": [
    "#### Function Outputs\n",
    "\n",
    "Functions are allowed to **return** a value. The `return` keyword causes the function to exit, and give some value to whatever code called the function. It's the best way for a function to communicate back its result."
   ]
  },
  {
   "cell_type": "code",
   "execution_count": null,
   "id": "834dd030",
   "metadata": {
    "id": "834dd030"
   },
   "outputs": [],
   "source": [
    "def addThreeThings(thing1, thing2, thing3):\n",
    "    val = thing1 + thing2 + thing3\n",
    "    return val\n",
    "    \n",
    "# Call a function and print its return value\n",
    "result = addThreeThings(5, 6, 7)\n",
    "print(result)"
   ]
  },
  {
   "cell_type": "markdown",
   "id": "d68361ee",
   "metadata": {
    "id": "d68361ee"
   },
   "source": [
    "### Classes\n",
    "\n",
    "A **class** is a group of related variables and functions.\n",
    "\n",
    "Classes are declared with the `class` keyword.\n",
    "\n",
    "Sometimes, the functions inside classes are called **methods**. For robotics purposes, the two terms are fairly interchangable.\n",
    "\n",
    "Every class has a special `__init__` method. This is the **constructor**, which gets called when you make a new class.\n",
    "\n",
    "Each method in a class must have at least one argument, called `self`. This includes `__init__` method. \n",
    "\n",
    "Classes are **instantiated** by calling their name, just like functions.\n",
    "\n"
   ]
  },
  {
   "cell_type": "code",
   "execution_count": null,
   "id": "5e387dac",
   "metadata": {
    "id": "5e387dac"
   },
   "outputs": [],
   "source": [
    "# Declare a new class called ClawControl\n",
    "class ClawControl:\n",
    "  def __init__(self):\n",
    "    print(\"made a new ClawControl!\")\n",
    "\n",
    "# Make a new instance of that class\n",
    "myCC = ClawControl()"
   ]
  },
  {
   "cell_type": "markdown",
   "id": "OA2H2L6Ykz4v",
   "metadata": {
    "id": "OA2H2L6Ykz4v"
   },
   "source": [
    "`self` can be used to access any variable or method inside the class.\n",
    "\n",
    "Python automatically passes in the proper value for `self`. Other arguments are not automatically provided.\n",
    "\n",
    "For example, let's expand our class a bit. It will now have an `open` method which commands the claw to open. We'll track how many times the claw has been opened with a new member variable called `openCount`. \n"
   ]
  },
  {
   "cell_type": "code",
   "execution_count": null,
   "id": "07b6e060",
   "metadata": {
    "id": "07b6e060"
   },
   "outputs": [],
   "source": [
    "# Declare a class called ClawControl\n",
    "# which tracks how many times you've tried to open the claw\n",
    "class ClawControl:\n",
    "  def __init__(self):\n",
    "    print(\"made a new ClawControl!\")\n",
    "    self.openCount = 0\n",
    "\n",
    "  def open(self):\n",
    "    self.openCount = self.openCount + 1\n",
    "\n",
    "  def checkOpenCount(self):\n",
    "    print(\"Claw has been opened \")\n",
    "    print(self.openCount)\n",
    "    print(\" times\")"
   ]
  },
  {
   "cell_type": "markdown",
   "id": "vomF11wxmYuu",
   "metadata": {
    "id": "vomF11wxmYuu"
   },
   "source": [
    "Now, let's use our class. We'll make a new **instance** of it, open the claw a few times, and then check how many times we opened it."
   ]
  },
  {
   "cell_type": "code",
   "execution_count": null,
   "id": "5c24e864",
   "metadata": {
    "id": "5c24e864"
   },
   "outputs": [],
   "source": [
    "# Create an instance of a claw control\n",
    "myCC = ClawControl()\n",
    "\n",
    "# Open it a few times\n",
    "myCC.open()\n",
    "myCC.open()\n",
    "\n",
    "# Check the number of times it was opened\n",
    "myCC.checkOpenCount()"
   ]
  },
  {
   "cell_type": "markdown",
   "id": "9677b23b",
   "metadata": {},
   "source": [
    "Class methods can return values, just like functions."
   ]
  },
  {
   "cell_type": "code",
   "execution_count": null,
   "id": "2fd2dda9",
   "metadata": {},
   "outputs": [],
   "source": [
    "# Declare a class called ClawControl\n",
    "# which tracks how many times you've tried to open the claw\n",
    "class ClawControl:\n",
    "  def __init__(self):\n",
    "    print(\"made a new ClawControl!\")\n",
    "    self.openCount = 0\n",
    "\n",
    "  def open(self):\n",
    "    self.openCount = self.openCount + 1\n",
    "\n",
    "  def getOpenCount(self):\n",
    "    return self.openCount"
   ]
  },
  {
   "cell_type": "code",
   "execution_count": null,
   "id": "91cc25bf",
   "metadata": {
    "scrolled": true
   },
   "outputs": [],
   "source": [
    "# Create an instance of a claw control\n",
    "myCC = ClawControl()\n",
    "\n",
    "# Open it a few times\n",
    "myCC.open()\n",
    "myCC.open()\n",
    "myCC.open()\n",
    "\n",
    "# Check the number of times it was opened\n",
    "result = myCC.getOpenCount()\n",
    "print(result)"
   ]
  },
  {
   "cell_type": "markdown",
   "id": "7a618067",
   "metadata": {},
   "source": [
    "Class member variables can also be directly accessed from outside the class."
   ]
  },
  {
   "cell_type": "code",
   "execution_count": null,
   "id": "62e08f81",
   "metadata": {},
   "outputs": [],
   "source": [
    "# Declare a class called ClawControl\n",
    "# which tracks how many times you've tried to open the claw\n",
    "class ClawControl:\n",
    "  def __init__(self):\n",
    "    print(\"made a new ClawControl!\")\n",
    "    self.openCount = 0\n",
    "\n",
    "  def open(self):\n",
    "    self.openCount = self.openCount + 1"
   ]
  },
  {
   "cell_type": "code",
   "execution_count": null,
   "id": "f8fce5e6",
   "metadata": {},
   "outputs": [],
   "source": [
    "# Create an instance of a claw control\n",
    "myCC = ClawControl()\n",
    "\n",
    "# Open it once\n",
    "myCC.open()\n",
    "\n",
    "# Check the number of times it was opened\n",
    "print(myCC.openCount)"
   ]
  },
  {
   "cell_type": "markdown",
   "id": "bc0f0c46",
   "metadata": {},
   "source": [
    "### Booleans and Comparison\n",
    "\n",
    "A **boolean** is a value which is only ever `True` or `False`.\n",
    "\n",
    "Just like numbers have operators like `+,-,*,-`, booleans have operators too.\n",
    "\n",
    " * `a and b` is `True` if *both* `a` and `b` are `True` - otherwise it is false.\n",
    " * `a or b` is `True` if *at least one of* `a` and `b` are `True` - otherwise it is false.\n",
    " * `not a` will \"invert\" `a` - turns `False` to `True` and `True` to `False`"
   ]
  },
  {
   "cell_type": "code",
   "execution_count": null,
   "id": "a01b6fc4",
   "metadata": {},
   "outputs": [],
   "source": [
    "a = True\n",
    "b = False\n",
    "print(a and b)\n",
    "print(a or b)\n",
    "print(not a)"
   ]
  },
  {
   "cell_type": "markdown",
   "id": "6811a878",
   "metadata": {},
   "source": [
    "Booleans can also be created by comparing values to each other. The following comparison operations are supported:\n",
    "\n",
    " * `a < b` is `True` when `a` is less than `b`\n",
    " * `a <= b` is `True` when `a` is less than or equal to `b`\n",
    " * `a > b` is `True` when `a` is greater than `b`\n",
    " * `a >= b` is `True` when `a` is greater than or equal to `b`\n",
    " * `a == b` is `True` when `a` is exactly equal to `b`\n",
    " * `a != b` is `True` when `a` is not equal to `b`\n",
    " \n",
    " Run the code blocks below. Edit the blocks to make `a` and `b` have different values to see what happens."
   ]
  },
  {
   "cell_type": "code",
   "execution_count": null,
   "id": "e0b7b30d",
   "metadata": {},
   "outputs": [],
   "source": [
    "a = 5\n",
    "b = 6\n",
    "print(a < b)\n",
    "print(a <= b)"
   ]
  },
  {
   "cell_type": "code",
   "execution_count": null,
   "id": "9de25451",
   "metadata": {},
   "outputs": [],
   "source": [
    "a = 15.5\n",
    "b = 15.6\n",
    "print(a > b)\n",
    "print(a >= b)"
   ]
  },
  {
   "cell_type": "code",
   "execution_count": null,
   "id": "3af70ab1",
   "metadata": {},
   "outputs": [],
   "source": [
    "a = 7\n",
    "b = 7\n",
    "print(a == b)\n",
    "print(a != b)"
   ]
  },
  {
   "cell_type": "markdown",
   "id": "bb94f7cb",
   "metadata": {},
   "source": [
    "### Control Flow\n",
    "\n",
    "In addition to calculating values, python can control whether certain lines of code are run once, run multiple times, or skipped.\n",
    "\n",
    "#### if\n",
    "\n",
    "An **`if` statement** is the simplest control of switching whether code is run.\n",
    "\n",
    "The block of code requires a **boolean** value that indicates whether the block of code should run or not. The boolean value is usually calculated from other variables or functions. This boolean value is called the **condition**.\n",
    "\n",
    "An `if` statement always starts with `if` and ends with a colon (`:`). The condition goes between these two things.\n",
    "\n",
    "Run the block of code below. Change `a` and `b` to make different things print out."
   ]
  },
  {
   "cell_type": "code",
   "execution_count": null,
   "id": "eff6dbf1",
   "metadata": {},
   "outputs": [],
   "source": [
    "a = 8\n",
    "b = 6\n",
    "\n",
    "if a > b:\n",
    "    print(\"A is greater than B\")\n",
    "    \n",
    "if a > (b+5):\n",
    "    print(\"A is much greater than B\")"
   ]
  },
  {
   "attachments": {},
   "cell_type": "markdown",
   "id": "122beee6",
   "metadata": {},
   "source": [
    "#### if/else\n",
    "\n",
    "`if` statements can also have an `else` block.\n",
    "\n",
    "The `else` block is executed when the `if` condition is `False`. \n",
    "\n",
    "Since `else` is the \"otherwise\" case, no additional condition is needed.\n",
    "\n",
    "Each of these chunks of code is called a **branch**. "
   ]
  },
  {
   "cell_type": "code",
   "execution_count": null,
   "id": "9d9de988",
   "metadata": {},
   "outputs": [],
   "source": [
    "a = 8.5\n",
    "b = 8.5\n",
    "\n",
    "if a == b:\n",
    "    # Main branch\n",
    "    print(\"A is exactly the same as B\")\n",
    "else:\n",
    "    # Alternate branch\n",
    "    print(\"A and B are different\")"
   ]
  },
  {
   "attachments": {},
   "cell_type": "markdown",
   "id": "2c075b22",
   "metadata": {},
   "source": [
    "### if/elif/else\n",
    "\n",
    "In some cases, more than two branches are needed. The `elif` keyword lets you define 3 or more branches. \n",
    "\n",
    "The conditions are checked \"top-down\", taking the first branch for which the condition is true (and skipping all others)."
   ]
  },
  {
   "cell_type": "code",
   "execution_count": null,
   "id": "c76c5c8c",
   "metadata": {},
   "outputs": [],
   "source": [
    "a = 75.9\n",
    "b = 3\n",
    "c = 2\n",
    "\n",
    "if a == b:\n",
    "    print(\"A is exactly the same as B\")\n",
    "elif a == c:\n",
    "    print(\"A is exactly the same as C\")\n",
    "elif b == c:\n",
    "    print(\"B and C are exactly equal\")\n",
    "else:\n",
    "    print(\"Nothing is equal\")"
   ]
  },
  {
   "cell_type": "markdown",
   "id": "cdb96e61",
   "metadata": {},
   "source": [
    "## General Architecture\n",
    "\n",
    "All robot code will follow a basic pattern:\n",
    "\n",
    "1. Gather input\n",
    "2. Perform calculations\n",
    "3. Assign output\n",
    "\n",
    "So far, we've looked at lots of information about performing calculations, and one way of performing output (`print()`).\n",
    "\n",
    "On a real robot, there's a lot more ways to get input and output."
   ]
  },
  {
   "cell_type": "code",
   "execution_count": null,
   "id": "40137f36",
   "metadata": {},
   "outputs": [],
   "source": []
  }
 ],
 "metadata": {
  "colab": {
   "provenance": []
  },
  "kernelspec": {
   "display_name": "Python 3 (ipykernel)",
   "language": "python",
   "name": "python3"
  },
  "language_info": {
   "codemirror_mode": {
    "name": "ipython",
    "version": 3
   },
   "file_extension": ".py",
   "mimetype": "text/x-python",
   "name": "python",
   "nbconvert_exporter": "python",
   "pygments_lexer": "ipython3",
   "version": "3.11.3"
  }
 },
 "nbformat": 4,
 "nbformat_minor": 5
}
