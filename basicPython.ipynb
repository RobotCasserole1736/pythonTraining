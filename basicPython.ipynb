{
  "cells": [
    {
      "cell_type": "markdown",
      "id": "e3dfd994",
      "metadata": {
        "id": "e3dfd994"
      },
      "source": [
        "# Introductory Python"
      ]
    },
    {
      "cell_type": "markdown",
      "id": "aa50de22",
      "metadata": {
        "id": "aa50de22"
      },
      "source": [
        "This lesson will teach the basics of the **Python** programming language. \n",
        "\n",
        "Programming languages are toolboxes. As a student, your first task is to understand the tools that are in the toolbox. Then, we will apply those tools to solve a problem.\n",
        "\n",
        "The end goal is knowing enough to make a robot do useful tasks. \n",
        "\n",
        "This training focuses on introducing the tools in the toolbox."
      ]
    },
    {
      "cell_type": "markdown",
      "id": "5391df36",
      "metadata": {
        "id": "5391df36"
      },
      "source": [
        "## Program Structure"
      ]
    },
    {
      "cell_type": "markdown",
      "id": "840fbd5d",
      "metadata": {
        "id": "840fbd5d"
      },
      "source": [
        "When running, Python will walk through your file line by line, doing what each line says to do.\n",
        "\n",
        "On the robot, your code will be contained in files with the extension `.py`. For this training, we'll just focus on small snippets of code.\n",
        "\n",
        "All robot code will follow a basic pattern:\n",
        "\n",
        "1. Gather input\n",
        "2. Perform calculations\n",
        "3. Assign output\n",
        "\n"
      ]
    },
    {
      "cell_type": "markdown",
      "id": "125b080c",
      "metadata": {
        "id": "125b080c"
      },
      "source": [
        "## Simple Output"
      ]
    },
    {
      "cell_type": "markdown",
      "id": "f3ea0fb7",
      "metadata": {
        "id": "f3ea0fb7"
      },
      "source": [
        "The first thing to learn is how to get information about what your program is doing. Without this, you won't know anything about how your code works.\n",
        "\n",
        "Python's basic mechanism for output is printing things to the **console**. This is done with the built-in `print()` function."
      ]
    },
    {
      "cell_type": "code",
      "execution_count": null,
      "id": "c1b66a44",
      "metadata": {
        "id": "c1b66a44"
      },
      "outputs": [],
      "source": [
        "print(\"Hello, I'm a robot!\")"
      ]
    },
    {
      "cell_type": "markdown",
      "id": "0c3fde6f",
      "metadata": {
        "id": "0c3fde6f"
      },
      "source": [
        "### Comments\n",
        "\n",
        "**Comments** allow you to put notes, reminders, or explanations into your code, for humans to read. The computer will just ignore all comments. All text after a `#` character is considered a comment.\n",
        "\n",
        "When we say to **comment out** a line of code, we mean to put a `#` in front of it to prevent it from running."
      ]
    },
    {
      "cell_type": "code",
      "execution_count": null,
      "id": "8b6f76fb",
      "metadata": {
        "id": "8b6f76fb"
      },
      "outputs": [],
      "source": [
        "# This is a comment\n",
        "\n",
        "# The code below here won't actually get run\n",
        "# print(\"hello, this code won't run because it's a comment\")\n",
        "\n",
        "# The code below here will run, because it isn't a comment\n",
        "print(\"hello, this code did run.\")"
      ]
    },
    {
      "cell_type": "markdown",
      "id": "2914cda7",
      "metadata": {
        "id": "2914cda7"
      },
      "source": [
        "## Tools for Calculation\n",
        "\n",
        "On a robot, your code's main job is to make decisions based on the world around it. Making these decisions requiers **calculation**.\n",
        "\n",
        "There are many tools that python provides for doing calculation."
      ]
    },
    {
      "cell_type": "markdown",
      "id": "9c7d0f86",
      "metadata": {
        "id": "9c7d0f86"
      },
      "source": [
        "### Variables"
      ]
    },
    {
      "cell_type": "markdown",
      "id": "ca21b2ad",
      "metadata": {
        "id": "ca21b2ad"
      },
      "source": [
        "A **variable** is simply a name for a memory location, where the computer can store a value.\n",
        "\n",
        "You create variables by simply writing to them. Python will pick a type automatically.\n",
        "\n",
        "When you ask python to `print()` a variable, it prints out the variable's value to the console."
      ]
    },
    {
      "cell_type": "code",
      "execution_count": null,
      "id": "52487029",
      "metadata": {
        "id": "52487029"
      },
      "outputs": [],
      "source": [
        "myVariable = 5\n",
        "print(myVariable)\n",
        "\n",
        "myVariable = 46\n",
        "print(myVariable)"
      ]
    },
    {
      "cell_type": "code",
      "execution_count": null,
      "id": "881b6ba8",
      "metadata": {
        "id": "881b6ba8"
      },
      "outputs": [],
      "source": [
        "myVariable = 42.35\n",
        "print(myVariable)"
      ]
    },
    {
      "cell_type": "code",
      "execution_count": null,
      "id": "d6c4cc73",
      "metadata": {
        "id": "d6c4cc73"
      },
      "outputs": [],
      "source": [
        "myVariable = \"Spinach\"\n",
        "print(myVariable)"
      ]
    },
    {
      "cell_type": "markdown",
      "id": "18cf79e0",
      "metadata": {
        "id": "18cf79e0"
      },
      "source": [
        "### Math"
      ]
    },
    {
      "cell_type": "markdown",
      "id": "fa159b74",
      "metadata": {
        "id": "fa159b74"
      },
      "source": [
        "Python can do basic math operations. **Operators** like `+` (addition), `-` (subtraction), `*` (multiplication), and `/` (division) are supported."
      ]
    },
    {
      "cell_type": "code",
      "execution_count": null,
      "id": "0204c535",
      "metadata": {
        "id": "0204c535"
      },
      "outputs": [],
      "source": [
        "myVariable = 3\n",
        "anotherVariable = myVariable + 5\n",
        "print(anotherVariable)"
      ]
    },
    {
      "cell_type": "code",
      "execution_count": null,
      "id": "288efaaa",
      "metadata": {
        "id": "288efaaa"
      },
      "outputs": [],
      "source": [
        "wheelSpeed = 1000\n",
        "wheelSpeed = wheelSpeed * 0.5\n",
        "print(wheelSpeed)"
      ]
    },
    {
      "cell_type": "markdown",
      "id": "4a031543",
      "metadata": {
        "id": "4a031543"
      },
      "source": [
        "### Functions\n",
        "\n",
        "Python lets create groups of useful lines of code, and give the group a name. This group of lines of code is called a **function**. \n",
        "\n",
        "You have already seen one function, called `print()`. You can make your own, too. The `def` keyword indicates you are **defining** a new function.\n",
        "\n",
        "Once you have defined a function, you can **call** the function by using its name, followed by `()`.\n"
      ]
    },
    {
      "cell_type": "code",
      "execution_count": null,
      "id": "7371958f",
      "metadata": {
        "id": "7371958f"
      },
      "outputs": [],
      "source": [
        "# Define a function named \"printThreeThings\"\n",
        "def printThreeThings():\n",
        "    print(\"hello\")\n",
        "    print(\"hello again\")\n",
        "    print(\"goodbye\")\n",
        "    \n",
        "# Call that function\n",
        "printThreeThings()"
      ]
    },
    {
      "cell_type": "markdown",
      "id": "41fb30af",
      "metadata": {
        "id": "41fb30af"
      },
      "source": [
        "#### Function Inputs\n",
        "\n",
        "Functions can take any number of **arguments**. These are simply named values that act like variables, but exist only inside that one function. They're a good way for the code which _calls_ a function to **pass** some information to the function.\n"
      ]
    },
    {
      "cell_type": "code",
      "execution_count": null,
      "id": "6e84fd3a",
      "metadata": {
        "id": "6e84fd3a"
      },
      "outputs": [],
      "source": [
        "def printThreeThings(middleThing):\n",
        "    print(\"hello\")\n",
        "    print(middleThing)\n",
        "    print(\"goodbye\")\n",
        "    \n",
        "# Call that function, passing a specific input value\n",
        "printThreeThings(\"Robot!\")"
      ]
    },
    {
      "cell_type": "markdown",
      "id": "76921d4f",
      "metadata": {
        "id": "76921d4f"
      },
      "source": [
        "#### Function Outputs\n",
        "\n",
        "Functions are allowed to **return** a value. The `return` keyword causes the function to exit, and give some value to whatever code called the function. It's the best way for a function to communicate back its result."
      ]
    },
    {
      "cell_type": "code",
      "execution_count": null,
      "id": "834dd030",
      "metadata": {
        "id": "834dd030"
      },
      "outputs": [],
      "source": [
        "def addThreeThings(thing1, thing2, thing3):\n",
        "    val = thing1 + thing2 + thing3\n",
        "    return val\n",
        "    \n",
        "# Call a function and print its return value\n",
        "result = addThreeThings(5, 6, 7)\n",
        "print(result)"
      ]
    },
    {
      "cell_type": "markdown",
      "id": "d68361ee",
      "metadata": {
        "id": "d68361ee"
      },
      "source": [
        "### Classes\n",
        "\n",
        "A **class** is a group of related variables and functions.\n",
        "\n",
        "Classes are declared with the `class` keyword.\n",
        "\n",
        "Every class has a special `__init__(self)` method which is the constructor. It gets called when you make a new class."
      ]
    },
    {
      "cell_type": "code",
      "execution_count": null,
      "id": "5e387dac",
      "metadata": {
        "id": "5e387dac"
      },
      "outputs": [],
      "source": [
        "# coming soon!"
      ]
    },
    {
      "cell_type": "code",
      "execution_count": null,
      "id": "07b6e060",
      "metadata": {
        "id": "07b6e060"
      },
      "outputs": [],
      "source": []
    },
    {
      "cell_type": "code",
      "execution_count": null,
      "id": "5c24e864",
      "metadata": {
        "id": "5c24e864"
      },
      "outputs": [],
      "source": []
    }
  ],
  "metadata": {
    "kernelspec": {
      "display_name": "Python 3 (ipykernel)",
      "language": "python",
      "name": "python3"
    },
    "language_info": {
      "codemirror_mode": {
        "name": "ipython",
        "version": 3
      },
      "file_extension": ".py",
      "mimetype": "text/x-python",
      "name": "python",
      "nbconvert_exporter": "python",
      "pygments_lexer": "ipython3",
      "version": "3.10.4"
    },
    "colab": {
      "provenance": []
    }
  },
  "nbformat": 4,
  "nbformat_minor": 5
}