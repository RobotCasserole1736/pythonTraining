{
 "cells": [
  {
   "cell_type": "code",
   "execution_count": null,
   "id": "e19765aa",
   "metadata": {
    "tags": [
     "init"
    ]
   },
   "outputs": [],
   "source": [
    "def robotInit(self):\n",
    "    print(\"hello\")\n",
    "    \n",
    "def robotPeriodic(self):\n",
    "    print(\"hello again\")\n"
   ]
  },
  {
   "cell_type": "code",
   "execution_count": 3,
   "id": "cc035280",
   "metadata": {
    "tags": [
     "periodic"
    ]
   },
   "outputs": [
    {
     "name": "stdout",
     "output_type": "stream",
     "text": [
      "[Peachy!]test2{}"
     ]
    }
   ],
   "source": [
    "test2"
   ]
  }
 ],
 "metadata": {
  "kernelspec": {
   "display_name": "RobotPy Training",
   "language": "text",
   "name": "robotpytraining"
  },
  "language_info": {
   "file_extension": ".py",
   "mimetype": "text/py",
   "name": "echo"
  }
 },
 "nbformat": 4,
 "nbformat_minor": 5
}
