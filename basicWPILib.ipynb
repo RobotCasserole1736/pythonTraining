{
 "cells": [
  {
   "attachments": {},
   "cell_type": "markdown",
   "id": "212132e3",
   "metadata": {},
   "source": [
    "# Introduction to WPILib\n",
    "\n",
    "Python is a general-purpose programming language. This means it can solve *any* problem. However, we don't want to solve *any* problem, we want to solve one specific one: get a robot to work. There are two main ways we constrain ourselves to that problem.\n",
    "\n",
    "Robot-specific functionality is provided through *module* called \"WPILib\". This library adds all the robot specific"
   ]
  },
  {
   "cell_type": "code",
   "execution_count": null,
   "id": "e19765aa",
   "metadata": {
    "tags": [
     "init"
    ]
   },
   "outputs": [],
   "source": [
    "def robotInit(self):\n",
    "    print(\"hello\")\n",
    "    \n",
    "def robotPeriodic(self):\n",
    "    print(\"hello again\")\n"
   ]
  },
  {
   "cell_type": "code",
   "execution_count": 2,
   "id": "cc035280",
   "metadata": {
    "tags": [
     "periodic"
    ]
   },
   "outputs": [
    {
     "name": "stdout",
     "output_type": "stream",
     "text": [
      "Running robot with the following code:\n",
      "\n",
      "    test2"
     ]
    }
   ],
   "source": [
    "test2"
   ]
  },
  {
   "cell_type": "code",
   "execution_count": null,
   "id": "debe6ef1",
   "metadata": {},
   "outputs": [],
   "source": []
  },
  {
   "cell_type": "code",
   "execution_count": null,
   "id": "1c6af7aa",
   "metadata": {},
   "outputs": [],
   "source": []
  }
 ],
 "metadata": {
  "kernelspec": {
   "display_name": "RobotPy Training",
   "language": "text",
   "name": "robotpytraining"
  },
  "language_info": {
   "file_extension": ".py",
   "mimetype": "text/py",
   "name": "echo"
  }
 },
 "nbformat": 4,
 "nbformat_minor": 5
}
