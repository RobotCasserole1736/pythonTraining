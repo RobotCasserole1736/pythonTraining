{
 "cells": [
  {
   "attachments": {},
   "cell_type": "markdown",
   "id": "212132e3",
   "metadata": {},
   "source": [
    "# Introduction to WPILib\n",
    "\n",
    "This training will provide some hands-on experience working with WPILib.\n",
    "\n",
    "This training notebook is special - it has to be run on your local computer. \n",
    "\n",
    "Each code block *must* define a `robotInit(self)` and a `robotPeriodic(self)` method. Code outside of these methods will cause errors. \n",
    "\n",
    "When you run each code block, the init and periodc methods you supply will be run in a simulated robot project. WPILib's simulation interface will appear, and you can interact with your code in real time."
   ]
  },
  {
   "cell_type": "code",
   "execution_count": null,
   "id": "e19765aa",
   "metadata": {
    "tags": [
     "init"
    ]
   },
   "outputs": [],
   "source": [
    "def robotInit(self):\n",
    "    print(\"hello\")\n",
    "    \n",
    "def robotPeriodic(self):\n",
    "    print(\"hello again\")\n"
   ]
  }
 ],
 "metadata": {
  "kernelspec": {
   "display_name": "RobotPy Training",
   "language": "text",
   "name": "robotpytraining"
  },
  "language_info": {
   "file_extension": ".py",
   "mimetype": "text/py",
   "name": "echo"
  }
 },
 "nbformat": 4,
 "nbformat_minor": 5
}
