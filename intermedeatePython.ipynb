{
 "cells": [
  {
   "attachments": {},
   "cell_type": "markdown",
   "metadata": {},
   "source": [
    "# Intermedeate Python\n",
    "\n",
    "This lesson will teach additional useful features of the **Python** programming language. The focus will be the less common tools used to write robot software.\n"
   ]
  }
 ],
 "metadata": {
  "language_info": {
   "name": "python"
  },
  "orig_nbformat": 4
 },
 "nbformat": 4,
 "nbformat_minor": 2
}
